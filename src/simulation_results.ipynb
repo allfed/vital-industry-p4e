{
 "cells": [
  {
   "cell_type": "code",
   "execution_count": 12,
   "metadata": {},
   "outputs": [],
   "source": [
    "import numpy as np\n",
    "import pandas as pd\n",
    "import matplotlib.pyplot as plt"
   ]
  },
  {
   "cell_type": "code",
   "execution_count": 13,
   "metadata": {},
   "outputs": [],
   "source": [
    "# load data\n",
    "supply_samples = pd.read_csv('../data/simulations/total_distributed.csv', header=None)\n",
    "demand_samples = pd.read_csv('../data/simulations/vital_workers.csv', header=None)\n",
    "\n",
    "# convert to numpy array\n",
    "supply_samples = supply_samples.to_numpy()\n",
    "demand_samples = demand_samples.to_numpy()"
   ]
  },
  {
   "cell_type": "code",
   "execution_count": 14,
   "metadata": {},
   "outputs": [
    {
     "name": "stdout",
     "output_type": "stream",
     "text": [
      "Maximum value in supply distribution: 26562388.8958523\n",
      "Minimum value in demand distribution: 3869530.05236332\n"
     ]
    }
   ],
   "source": [
    "# Ensure both arrays have the same length\n",
    "assert len(supply_samples) == len(demand_samples), \"Supply and demand samples must have the same length\"\n",
    "\n",
    "# Check overlap between distributions\n",
    "print(f\"Maximum value in supply distribution: {supply_samples.max()}\")\n",
    "print(f\"Minimum value in demand distribution: {demand_samples.min()}\")"
   ]
  },
  {
   "cell_type": "code",
   "execution_count": 15,
   "metadata": {},
   "outputs": [],
   "source": [
    "def calculate_supply_meets_demand_probability(supply_samples, demand_samples):\n",
    "    \"\"\"\n",
    "    Calculate probability that supply meets demand using direct sample comparison.\n",
    "    \n",
    "    Parameters:\n",
    "    supply_samples: Array of supply quantities (5000 samples)\n",
    "    demand_samples: Array of demand quantities (5000 samples)\n",
    "    \n",
    "    Returns:\n",
    "    float: Probability that supply meets or exceeds demand\n",
    "    \"\"\"\n",
    "    # Compare each supply sample with each demand sample\n",
    "    # This creates a matrix of all possible supply-demand combinations\n",
    "    supply_matrix = supply_samples[:, np.newaxis]  # shape: (5000, 1)\n",
    "    sufficient = supply_matrix >= demand_samples    # shape: (5000, 5000)\n",
    "    \n",
    "    # Average over all combinations\n",
    "    probability = np.mean(sufficient)\n",
    "    \n",
    "    return probability * 100"
   ]
  },
  {
   "cell_type": "code",
   "execution_count": 16,
   "metadata": {},
   "outputs": [
    {
     "name": "stdout",
     "output_type": "stream",
     "text": [
      "Probability that supply meets demand: 1.2118%\n"
     ]
    }
   ],
   "source": [
    "x = calculate_supply_meets_demand_probability(supply_samples, demand_samples)\n",
    "print(f\"Probability that supply meets demand: {x:.4f}%\")"
   ]
  }
 ],
 "metadata": {
  "kernelspec": {
   "display_name": "vital-industry-p4e",
   "language": "python",
   "name": "python3"
  },
  "language_info": {
   "codemirror_mode": {
    "name": "ipython",
    "version": 3
   },
   "file_extension": ".py",
   "mimetype": "text/x-python",
   "name": "python",
   "nbconvert_exporter": "python",
   "pygments_lexer": "ipython3",
   "version": "3.10.16"
  }
 },
 "nbformat": 4,
 "nbformat_minor": 2
}
